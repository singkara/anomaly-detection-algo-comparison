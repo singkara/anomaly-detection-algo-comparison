{
 "cells": [
  {
   "cell_type": "code",
   "execution_count": 1,
   "metadata": {
    "pycharm": {
     "is_executing": false
    }
   },
   "outputs": [],
   "source": [
    "import numpy as np\n",
    "import matplotlib.pyplot as plt\n",
    "from scripts.forest import Forest\n",
    "from sklearn.ensemble import IsolationForest\n",
    "from sklearn import mixture\n",
    "from scipy.linalg import qr\n",
    "import scipy.stats as scp\n",
    "from math import cos\n",
    "from sklearn.neighbors import LocalOutlierFactor\n",
    "import rrcf\n",
    "from pyod.models.knn import KNN\n",
    "from pyod.models.pca import PCA\n",
    "from sklearn.svm import OneClassSVM\n",
    "import pandas as pd"
   ]
  },
  {
   "cell_type": "code",
   "execution_count": 2,
   "metadata": {
    "pycharm": {
     "is_executing": false
    }
   },
   "outputs": [],
   "source": [
    "def add_dimension(arr, dim):\n",
    "    if dim == 0:\n",
    "        return arr\n",
    "    _, n_pts = np.shape(arr)\n",
    "    added = np.random.randint(low=0, high = 100, size = ( dim, n_pts))\n",
    "    added = added - 50\n",
    "    added = added/25\n",
    "    return np.vstack((arr,added))\n",
    "    "
   ]
  },
  {
   "cell_type": "code",
   "execution_count": 3,
   "metadata": {
    "pycharm": {
     "is_executing": false
    }
   },
   "outputs": [],
   "source": [
    "#n_pts per Gaussian\n",
    "def sample_points(n_Gaussians, n_pts, noisy_dim):\n",
    "    means = []\n",
    "    covs = []\n",
    "    for i in range(n_Gaussians):\n",
    "        #a = np.random.randint(0, 3 * n_Gaussians)\n",
    "        a = 4*i\n",
    "        #b = np.random.randint(0, 3 * n_Gaussians)\n",
    "        b = 4*i\n",
    "        c = np.random.randint(0, 1000)\n",
    "        means.append([a,b])\n",
    "        cov = [[1,cos(c)], [cos(c), 2]]\n",
    "        #cov = [[0.3 + 3*i,0.1],[0.1,0.1 + 3*i]]\n",
    "        covs.append(cov)\n",
    "    G_x = np.zeros((n_Gaussians, n_pts))\n",
    "    G_y = np.zeros((n_Gaussians, n_pts))\n",
    "    pts_l = []\n",
    "    for i in range(n_Gaussians):\n",
    "        G_x[i], G_y[i] = np.random.multivariate_normal(means[i], covs[i], n_pts).T\n",
    "        pts_l.append(np.vstack((G_x[i], G_y[i])))    \n",
    "    pts = np.hstack(pts_l)\n",
    "    noisy_pts = add_dimension(pts, noisy_dim)\n",
    "    return pts, noisy_pts, means, covs\n",
    "    "
   ]
  },
  {
   "cell_type": "code",
   "execution_count": 4,
   "metadata": {
    "pycharm": {
     "is_executing": false
    }
   },
   "outputs": [],
   "source": [
    "def get_truth(pts, means, covs):    \n",
    "    dist = []\n",
    "    n_G = len(means[0])\n",
    "    for i in range(n_G):\n",
    "        dist.append(scp.multivariate_normal(mean = means[i], cov = covs[i]))\n",
    "    ptsT = np.transpose(pts)\n",
    "    t_scores = np.zeros(len(ptsT))\n",
    "    for i in range(len(t_scores)):\n",
    "        for j in range(n_G):\n",
    "            t_scores[i] += dist[j].pdf(ptsT[i])\n",
    "    t_indices = np.argsort(t_scores)[:100]\n",
    "    return t_indices"
   ]
  },
  {
   "cell_type": "code",
   "execution_count": 5,
   "metadata": {
    "pycharm": {
     "is_executing": false
    }
   },
   "outputs": [],
   "source": [
    "def get_iso(noisy_pts):\n",
    "    rng = np.random.RandomState(27)\n",
    "    _, n_p = np.shape(noisy_pts)\n",
    "    clf = IsolationForest(max_samples = 100, random_state = rng, contamination = 0.1, n_estimators= int(n_p / 50), behaviour = \"new\")\n",
    "    clf.fit(np.transpose(noisy_pts))\n",
    "    Y = clf.predict(np.transpose(noisy_pts))\n",
    "    iso_indices = []\n",
    "    for i in range(len(Y)):\n",
    "        if Y[i] == -1:\n",
    "            iso_indices.append(i)\n",
    "    return iso_indices\n",
    "\n",
    "def get_lof(noisy_pts):\n",
    "    lof = LocalOutlierFactor(n_neighbors=10, contamination=0.1)\n",
    "    Z = lof.fit_predict(np.transpose(noisy_pts))\n",
    "    lof_indices = []\n",
    "    for i in range(len(Z)):\n",
    "        if Z[i] == -1:\n",
    "            lof_indices.append(i)\n",
    "    return lof_indices\n",
    "\n",
    "def get_density(noisy_pts):\n",
    "    _, n_p = np.shape(noisy_pts)\n",
    "    kwargs = {'max_depth': 12, 'n_trees':20,  'max_samples': 300, 'max_buckets': 3, 'epsilon': 0.1, 'sample_axis': 1, 'threshold': 0}\n",
    "    forest = Forest(**kwargs)\n",
    "    forest.fit(noisy_pts)\n",
    "    gsw_indices, outliers, scores , pst, m_min = forest.predict(noisy_pts, 0.1)\n",
    "    return gsw_indices\n",
    "\n",
    "def get_em(noisy_pts, n_g):\n",
    "    mlf = mixture.GaussianMixture(n_components=n_g, covariance_type='full')\n",
    "    mlf.fit(np.transpose(noisy_pts))\n",
    "    Z = -mlf.score_samples(np.transpose(noisy_pts))\n",
    "    mix_indices = np.argsort(Z)[-100:]\n",
    "    return mix_indices\n",
    "\n",
    "def get_rrcf(noisy_pts):\n",
    "    num_trees = 500\n",
    "    tree_size = 256\n",
    "    X = np.transpose(noisy_pts)\n",
    "    [n,d] = np.shape(X)\n",
    "    forest = []\n",
    "    while len(forest) < num_trees:\n",
    "        # Select random subsets of points uniformly from point set\n",
    "        ixs = np.random.choice(n, size=(n // tree_size, tree_size),\n",
    "               replace=False)\n",
    "        # Add sampled trees to forest\n",
    "        trees = [rrcf.RCTree(X[ix], index_labels=ix) for ix in ixs]\n",
    "        forest.extend(trees)\n",
    "        \n",
    "    avg_codisp = pd.Series(0.0, index=np.arange(n))\n",
    "    index = np.zeros(n)\n",
    "    for tree in forest:\n",
    "        codisp = pd.Series({leaf : tree.codisp(leaf) for leaf in tree.leaves})\n",
    "        avg_codisp[codisp.index] += codisp\n",
    "        np.add.at(index, codisp.index.values, 1)\n",
    "    avg_codisp /= index\n",
    "    alg_scores = avg_codisp\n",
    "    alg_indices = np.argsort(alg_scores)[-100:]\n",
    "    return alg_indices\n",
    "\n",
    "def get_svm(noisy_pts):\n",
    "    X = np.transpose(noisy_pts)\n",
    "    clf = OneClassSVM(kernel='rbf')\n",
    "    clf.fit(X)\n",
    "    alg_scores = clf.score_samples(X)\n",
    "    alg_scores = - alg_scores\n",
    "    alg_indices = np.argsort(alg_scores)[-100:]\n",
    "    return alg_indices\n",
    "\n",
    "def get_knn(noisy_pts):\n",
    "    X = np.transpose(noisy_pts)\n",
    "    clf = KNN()\n",
    "    clf.fit(X)\n",
    "    alg_scores = clf.decision_scores_ \n",
    "    alg_indices = np.argsort(alg_scores)[-100:]\n",
    "    return alg_indices\n",
    "\n",
    "def get_pca(noisy_pts):\n",
    "    X = np.transpose(noisy_pts)\n",
    "    clf = PCA()\n",
    "    clf.fit(X)\n",
    "    alg_scores = clf.decision_scores_ \n",
    "    alg_indices = np.argsort(alg_scores)[-100:]\n",
    "    return alg_indices\n"
   ]
  },
  {
   "cell_type": "code",
   "execution_count": null,
   "metadata": {
    "pycharm": {
     "is_executing": true
    }
   },
   "outputs": [
    {
     "name": "stdout",
     "text": [
      "n_G:  2 noisy dim:  0\n",
      "IForest \n",
      "PIDForest\n",
      "EM \n",
      "LOF \n",
      "RRCF \n",
      "SVM \n",
      "kNN \n",
      "PCA\n",
      "\n",
      "Exp:  0 Results [us, iso , em, lof, rrcf, svm, knn, pca] 76 63 94 63 71 85 75 35\n",
      "averages for dimension 0 :  [76. 63. 94. 63. 71. 85. 75. 35.]\n",
      "n_G:  2 noisy dim:  1\n",
      "IForest \n",
      "PIDForest\n",
      "error: var_red is -0.5\n",
      "EM \n",
      "LOF \n",
      "RRCF \n",
      "SVM \n",
      "kNN \n",
      "PCA\n",
      "\n",
      "Exp:  0 Results [us, iso , em, lof, rrcf, svm, knn, pca] 73 37 72 59 74 73 76 46\n",
      "averages for dimension 1 :  [73. 37. 72. 59. 74. 73. 76. 46.]\n",
      "n_G:  2 noisy dim:  2\n",
      "IForest \n",
      "PIDForest\n",
      "EM \n",
      "LOF \n",
      "RRCF \n",
      "SVM \n",
      "kNN \n",
      "PCA\n",
      "\n",
      "Exp:  0 Results [us, iso , em, lof, rrcf, svm, knn, pca] 59 31 66 58 63 58 69 27\n",
      "averages for dimension 2 :  [59. 31. 66. 58. 63. 58. 69. 27.]\n",
      "n_G:  2 noisy dim:  3\n",
      "IForest \n",
      "PIDForest\n",
      "EM \n",
      "LOF \n",
      "RRCF \n",
      "SVM \n",
      "kNN \n",
      "PCA\n",
      "\n",
      "Exp:  0 Results [us, iso , em, lof, rrcf, svm, knn, pca] 59 29 62 57 60 57 66 32\n",
      "averages for dimension 3 :  [59. 29. 62. 57. 60. 57. 66. 32.]\n",
      "n_G:  2 noisy dim:  4\n",
      "IForest \n",
      "PIDForest\n",
      "EM \n",
      "LOF \n",
      "RRCF \n",
      "SVM \n",
      "kNN \n",
      "PCA\n",
      "\n",
      "Exp:  0 Results [us, iso , em, lof, rrcf, svm, knn, pca] 55 26 66 55 55 50 64 23\n",
      "averages for dimension 4 :  [55. 26. 66. 55. 55. 50. 64. 23.]\n",
      "n_G:  2 noisy dim:  5\n",
      "IForest \n",
      "PIDForest\n",
      "EM \n",
      "LOF \n",
      "RRCF \n",
      "SVM \n",
      "kNN \n",
      "PCA\n",
      "\n",
      "Exp:  0 Results [us, iso , em, lof, rrcf, svm, knn, pca] 62 28 55 49 62 46 56 29\n",
      "averages for dimension 5 :  [62. 28. 55. 49. 62. 46. 56. 29.]\n",
      "n_G:  2 noisy dim:  6\n",
      "IForest \n",
      "PIDForest\n",
      "EM \n",
      "LOF \n",
      "RRCF \n",
      "SVM \n",
      "kNN \n",
      "PCA\n",
      "\n",
      "Exp:  0 Results [us, iso , em, lof, rrcf, svm, knn, pca] 59 22 63 58 63 54 58 26\n",
      "averages for dimension 6 :  [59. 22. 63. 58. 63. 54. 58. 26.]\n",
      "n_G:  2 noisy dim:  7\n",
      "IForest \n",
      "PIDForest\n",
      "EM \n",
      "LOF \n",
      "RRCF \n",
      "SVM \n",
      "kNN \n",
      "PCA\n",
      "\n",
      "Exp:  0 Results [us, iso , em, lof, rrcf, svm, knn, pca] 55 9 53 51 59 47 49 21\n",
      "averages for dimension 7 :  [55.  9. 53. 51. 59. 47. 49. 21.]\n",
      "n_G:  2 noisy dim:  8\n",
      "IForest \n",
      "PIDForest\n",
      "EM \n",
      "LOF \n",
      "RRCF \n",
      "SVM \n",
      "kNN \n",
      "PCA\n",
      "\n",
      "Exp:  0 Results [us, iso , em, lof, rrcf, svm, knn, pca] 48 19 52 53 48 41 52 21\n",
      "averages for dimension 8 :  [48. 19. 52. 53. 48. 41. 52. 21.]\n",
      "n_G:  2 noisy dim:  9\n",
      "IForest \n",
      "PIDForest\n",
      "EM \n",
      "LOF \n",
      "RRCF \n",
      "SVM \n",
      "kNN \n",
      "PCA\n",
      "\n",
      "Exp:  0 Results [us, iso , em, lof, rrcf, svm, knn, pca] 55 26 46 48 54 49 49 34\n",
      "averages for dimension 9 :  [55. 26. 46. 48. 54. 49. 49. 34.]\n",
      "n_G:  2 noisy dim:  10\n",
      "IForest \n",
      "PIDForest\n",
      "EM \n",
      "LOF \n",
      "RRCF \n",
      "SVM \n",
      "kNN \n",
      "PCA\n",
      "\n",
      "Exp:  0 Results [us, iso , em, lof, rrcf, svm, knn, pca] 50 10 44 42 52 36 46 19\n",
      "averages for dimension 10 :  [50. 10. 44. 42. 52. 36. 46. 19.]\n",
      "n_G:  2 noisy dim:  11\n",
      "IForest \n",
      "PIDForest\n",
      "EM \n",
      "LOF \n",
      "RRCF \n",
      "SVM \n",
      "kNN \n",
      "PCA\n",
      "\n",
      "Exp:  0 Results [us, iso , em, lof, rrcf, svm, knn, pca] 49 7 37 32 52 28 35 17\n",
      "averages for dimension 11 :  [49.  7. 37. 32. 52. 28. 35. 17.]\n",
      "n_G:  2 noisy dim:  12\n",
      "IForest \n",
      "PIDForest\n"
     ],
     "output_type": "stream"
    },
    {
     "name": "stderr",
     "text": [
      "/Library/Frameworks/Python.framework/Versions/3.7/lib/python3.7/site-packages/sklearn/svm/base.py:193: FutureWarning: The default value of gamma will change from 'auto' to 'scale' in version 0.22 to account better for unscaled features. Set gamma explicitly to 'auto' or 'scale' to avoid this warning.\n",
      "  \"avoid this warning.\", FutureWarning)\n",
      "/Library/Frameworks/Python.framework/Versions/3.7/lib/python3.7/site-packages/sklearn/svm/base.py:193: FutureWarning: The default value of gamma will change from 'auto' to 'scale' in version 0.22 to account better for unscaled features. Set gamma explicitly to 'auto' or 'scale' to avoid this warning.\n",
      "  \"avoid this warning.\", FutureWarning)\n",
      "/Library/Frameworks/Python.framework/Versions/3.7/lib/python3.7/site-packages/sklearn/svm/base.py:193: FutureWarning: The default value of gamma will change from 'auto' to 'scale' in version 0.22 to account better for unscaled features. Set gamma explicitly to 'auto' or 'scale' to avoid this warning.\n",
      "  \"avoid this warning.\", FutureWarning)\n",
      "/Library/Frameworks/Python.framework/Versions/3.7/lib/python3.7/site-packages/sklearn/svm/base.py:193: FutureWarning: The default value of gamma will change from 'auto' to 'scale' in version 0.22 to account better for unscaled features. Set gamma explicitly to 'auto' or 'scale' to avoid this warning.\n",
      "  \"avoid this warning.\", FutureWarning)\n",
      "/Library/Frameworks/Python.framework/Versions/3.7/lib/python3.7/site-packages/sklearn/svm/base.py:193: FutureWarning: The default value of gamma will change from 'auto' to 'scale' in version 0.22 to account better for unscaled features. Set gamma explicitly to 'auto' or 'scale' to avoid this warning.\n",
      "  \"avoid this warning.\", FutureWarning)\n",
      "/Library/Frameworks/Python.framework/Versions/3.7/lib/python3.7/site-packages/sklearn/svm/base.py:193: FutureWarning: The default value of gamma will change from 'auto' to 'scale' in version 0.22 to account better for unscaled features. Set gamma explicitly to 'auto' or 'scale' to avoid this warning.\n",
      "  \"avoid this warning.\", FutureWarning)\n",
      "/Library/Frameworks/Python.framework/Versions/3.7/lib/python3.7/site-packages/sklearn/svm/base.py:193: FutureWarning: The default value of gamma will change from 'auto' to 'scale' in version 0.22 to account better for unscaled features. Set gamma explicitly to 'auto' or 'scale' to avoid this warning.\n",
      "  \"avoid this warning.\", FutureWarning)\n",
      "/Library/Frameworks/Python.framework/Versions/3.7/lib/python3.7/site-packages/sklearn/svm/base.py:193: FutureWarning: The default value of gamma will change from 'auto' to 'scale' in version 0.22 to account better for unscaled features. Set gamma explicitly to 'auto' or 'scale' to avoid this warning.\n",
      "  \"avoid this warning.\", FutureWarning)\n",
      "/Library/Frameworks/Python.framework/Versions/3.7/lib/python3.7/site-packages/sklearn/svm/base.py:193: FutureWarning: The default value of gamma will change from 'auto' to 'scale' in version 0.22 to account better for unscaled features. Set gamma explicitly to 'auto' or 'scale' to avoid this warning.\n",
      "  \"avoid this warning.\", FutureWarning)\n",
      "/Library/Frameworks/Python.framework/Versions/3.7/lib/python3.7/site-packages/sklearn/svm/base.py:193: FutureWarning: The default value of gamma will change from 'auto' to 'scale' in version 0.22 to account better for unscaled features. Set gamma explicitly to 'auto' or 'scale' to avoid this warning.\n",
      "  \"avoid this warning.\", FutureWarning)\n",
      "/Library/Frameworks/Python.framework/Versions/3.7/lib/python3.7/site-packages/sklearn/svm/base.py:193: FutureWarning: The default value of gamma will change from 'auto' to 'scale' in version 0.22 to account better for unscaled features. Set gamma explicitly to 'auto' or 'scale' to avoid this warning.\n",
      "  \"avoid this warning.\", FutureWarning)\n",
      "/Library/Frameworks/Python.framework/Versions/3.7/lib/python3.7/site-packages/sklearn/svm/base.py:193: FutureWarning: The default value of gamma will change from 'auto' to 'scale' in version 0.22 to account better for unscaled features. Set gamma explicitly to 'auto' or 'scale' to avoid this warning.\n",
      "  \"avoid this warning.\", FutureWarning)\n"
     ],
     "output_type": "stream"
    }
   ],
   "source": [
    "n_Gaussians = 2\n",
    "n_pts = 500\n",
    "n_exp = 1\n",
    "dimensions = 20\n",
    "final_res = np.zeros((8, dimensions))\n",
    "for noisy_dim in range(dimensions):\n",
    "    print(\"n_G: \", n_Gaussians, \"noisy dim: \", noisy_dim)\n",
    "    res = np.zeros((8, n_exp))\n",
    "    for exp in range(n_exp):    \n",
    "        pts, noisy_pts, means, covs = sample_points(n_Gaussians, n_pts, noisy_dim)\n",
    "        t_indices = get_truth(pts, means, covs)\n",
    "        print('IForest ')\n",
    "        iso_indices = get_iso(noisy_pts)\n",
    "        print('PIDForest')\n",
    "        gsw_indices = get_density(noisy_pts)\n",
    "        print('EM ')\n",
    "        em_indices = get_em(noisy_pts, n_Gaussians)\n",
    "        print('LOF ')\n",
    "        lof_indices = get_lof(noisy_pts)\n",
    "        print('RRCF ')\n",
    "        rrcf_indices = get_rrcf(noisy_pts)\n",
    "        print('SVM ')\n",
    "        svm_indices = get_svm(noisy_pts)\n",
    "        print('kNN ')\n",
    "        knn_indices = get_knn(noisy_pts)\n",
    "        print('PCA\\n')\n",
    "        pca_indices = get_pca(noisy_pts)\n",
    "        us = len(set(t_indices).intersection(set(gsw_indices)))\n",
    "        iso = len(set(t_indices).intersection(set(iso_indices)))\n",
    "        em = len(set(em_indices).intersection(set(t_indices)))\n",
    "        lof = len(set(lof_indices).intersection(set(t_indices)))\n",
    "        rrcf_int = len(set(t_indices).intersection(set(rrcf_indices)))\n",
    "        svm_int = len(set(t_indices).intersection(set(svm_indices)))\n",
    "        knn_int = len(set(t_indices).intersection(set(knn_indices)))\n",
    "        pca_int = len(set(t_indices).intersection(set(pca_indices)))\n",
    "        \n",
    "        res[:, exp] = [us, iso, em, lof, rrcf_int, svm_int, knn_int, pca_int]\n",
    "        print(\"Exp: \", exp, \"Results [us, iso , em, lof, rrcf, svm, knn, pca]\", us, iso, em, lof, rrcf_int, svm_int, knn_int, pca_int)\n",
    "    final_res[:, noisy_dim] = [np.average(res[0,:]), np.average(res[1,:]), np.average(res[2,:]), np.average(res[3,:]), np.average(res[4,:]), np.average(res[5,:]), np.average(res[6,:]), np.average(res[7,:])]\n",
    "    print(\"averages for dimension\", noisy_dim, \": \", final_res[:,noisy_dim])"
   ]
  },
  {
   "cell_type": "code",
   "execution_count": null,
   "metadata": {
    "pycharm": {
     "is_executing": true
    }
   },
   "outputs": [],
   "source": [
    "print(final_res)"
   ]
  },
  {
   "cell_type": "code",
   "execution_count": null,
   "metadata": {
    "pycharm": {
     "is_executing": true
    }
   },
   "outputs": [],
   "source": [
    "np.savetxt('mixture_noise_all.text', final_res)"
   ]
  },
  {
   "cell_type": "code",
   "execution_count": null,
   "metadata": {
    "pycharm": {
     "is_executing": true
    }
   },
   "outputs": [],
   "source": [
    "#plt.figure(figsize=(20,10))\n",
    "plt.rcParams.update({'font.size':14})\n",
    "plt.title('Mixture of Gaussians with added Noise')\n",
    "plt.plot(final_res[0,:], label = \"PIDForest\", linewidth = 2, marker = \"v\")\n",
    "plt.plot(final_res[1,:], label = \"Isolation Forest\", linewidth = 2, marker = \"o\")\n",
    "plt.plot(final_res[2,:], label = \"EM\", linewidth = 2, marker = \"s\")\n",
    "plt.plot(final_res[3,:], label = \"LOF\", linewidth = 2, marker = \"+\")\n",
    "\n",
    "plt.xticks(np.arange(0, 20, step=2))\n",
    "plt.legend(prop={'size':13})\n",
    "plt.ylabel('accuracy')\n",
    "plt.xlabel('noise dimension')\n",
    "plt.axis([0, 20, 0, 100])\n",
    "# plt.savefig(\"noisy_Gaussian.pdf\", bbox_inches = 'tight')\n",
    "plt.show()"
   ]
  },
  {
   "cell_type": "code",
   "execution_count": null,
   "metadata": {
    "pycharm": {
     "is_executing": true
    }
   },
   "outputs": [],
   "source": [
    "#plt.figure(figsize=(20,10))\n",
    "plt.rcParams.update({'font.size':14})\n",
    "plt.title('Mixture of Gaussians with added Noise')\n",
    "plt.plot(final_res[0,:], label = \"PIDForest\", linewidth = 2, marker = \".\")\n",
    "plt.plot(final_res[4,:], label = \"RRCF\", linewidth = 2, marker = \"v\")\n",
    "plt.plot(final_res[5,:], label = \"SVM\", linewidth = 2, marker = \"o\")\n",
    "plt.plot(final_res[6,:], label = \"kNN\", linewidth = 2, marker = \"s\")\n",
    "plt.plot(final_res[7,:], label = \"PCA\", linewidth = 2, marker = \"+\")\n",
    "\n",
    "plt.xticks(np.arange(0, 20, step=2))\n",
    "plt.legend(prop={'size':13})\n",
    "plt.ylabel('accuracy')\n",
    "plt.xlabel('noise dimension')\n",
    "plt.axis([0, 20, 0, 100])\n",
    "plt.savefig(\"noisy_Gaussian_all.pdf\", bbox_inches = 'tight')\n",
    "plt.show()"
   ]
  },
  {
   "cell_type": "code",
   "execution_count": null,
   "metadata": {
    "pycharm": {
     "is_executing": true
    }
   },
   "outputs": [],
   "source": [
    "final_res"
   ]
  },
  {
   "cell_type": "code",
   "execution_count": null,
   "metadata": {
    "pycharm": {
     "is_executing": true
    }
   },
   "outputs": [],
   "source": []
  }
 ],
 "metadata": {
  "kernelspec": {
   "display_name": "Python 3",
   "language": "python",
   "name": "python3"
  },
  "language_info": {
   "codemirror_mode": {
    "name": "ipython",
    "version": 3
   },
   "file_extension": ".py",
   "mimetype": "text/x-python",
   "name": "python",
   "nbconvert_exporter": "python",
   "pygments_lexer": "ipython3",
   "version": "3.7.3"
  }
 },
 "nbformat": 4,
 "nbformat_minor": 2
}